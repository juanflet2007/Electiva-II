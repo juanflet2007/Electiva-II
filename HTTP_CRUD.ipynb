{
 "cells": [
  {
   "cell_type": "markdown",
   "id": "90d25c21",
   "metadata": {},
   "source": [
    "HTTP (HyperText Transfer Protocol): Guía Fundamental\n",
    "HTTP es el protocolo de comunicación que permite la transferencia de información en la web. Es la base de todas las interacciones en Internet, desde cargar páginas hasta consumir APIs.\n",
    "\n",
    "🔹 Conceptos Clave de HTTP\n",
    "Protocolo sin estado (stateless):\n",
    "\n",
    "Cada solicitud es independiente (el servidor no guarda contexto entre peticiones).\n",
    "\n",
    "Se usan cookies o tokens para mantener sesiones.\n",
    "\n",
    "Basado en texto:\n",
    "\n",
    "Las solicitudes/respuestas son legibles por humanos (aunque pueden llevar datos binarios).\n",
    "\n",
    "Puerto predeterminado:\n",
    "\n",
    "80 para HTTP.\n",
    "\n",
    "443 para HTTPS (versión segura con cifrado SSL/TLS)."
   ]
  },
  {
   "cell_type": "code",
   "execution_count": null,
   "id": "46c0a5e3",
   "metadata": {},
   "outputs": [],
   "source": [
    "GET /index.html HTTP/1.1\n",
    "Host: www.example.com\n",
    "User-Agent: Mozilla/5.0\n",
    "Accept: text/html"
   ]
  },
  {
   "cell_type": "markdown",
   "id": "658d1cdb",
   "metadata": {},
   "source": [
    "Método HTTP: GET, POST, PUT, DELETE, etc.\n",
    "\n",
    "URI: Ruta del recurso (/index.html).\n",
    "\n",
    "Versión HTTP: HTTP/1.1 o HTTP/2.\n",
    "\n",
    "Headers: Metadatos (Host, User-Agent, Content-Type).\n",
    "\n",
    "Body: Datos (opcional, común en POST/PUT)."
   ]
  },
  {
   "cell_type": "markdown",
   "id": "90c94167",
   "metadata": {},
   "source": [
    "🔹 Métodos HTTP Principales\n",
    "Método  |\tUso típico                     |\tIdempotente  |\tSeguro\n",
    "GET\t    |Obtener recursos (ej: página web).|Sí\t             |Sí\n",
    "POST\t|Enviar datos (ej: formulario).    |No  \t         |No\n",
    "PUT\t    | Reemplazar un recurso completo.  |Sí\t             |No\n",
    "PATCH\t|Actualizar parcialmente.\t       |Depende \t     |No\n",
    "DELETE\t|Eliminar un recurso.              |Sí   \t         |No"
   ]
  },
  {
   "cell_type": "markdown",
   "id": "4876c615",
   "metadata": {},
   "source": [
    "CRUD: CRUD es el conjunto de operaciones básicas que todo sistema de gestión de datos debe implementar. Es la base de APIs, bases de datos y aplicaciones web."
   ]
  },
  {
   "cell_type": "markdown",
   "id": "372a66b0",
   "metadata": {},
   "source": [
    "🔹 ¿Qué significa CRUD?\n",
    "Operación\tMétodo HTTP\t SQL equivalente\tDescripción\n",
    "Create\t    POST\t     INSERT\t            Crear nuevos datos.\n",
    "Read\t    GET\t         SELECT\t            Leer/consultar datos.\n",
    "Update\t    PUT/PATCH\t UPDATE\t            Modificar datos existentes.\n",
    "Delete\t    DELETE\t     DELETE\t            Eliminar datos."
   ]
  },
  {
   "cell_type": "markdown",
   "id": "0e615484",
   "metadata": {},
   "source": [
    "Bases de Datos"
   ]
  },
  {
   "cell_type": "code",
   "execution_count": null,
   "id": "fd9f902c",
   "metadata": {},
   "outputs": [],
   "source": [
    "-- CREATE\n",
    "INSERT INTO users (name, email) VALUES ('Ana', 'ana@example.com');\n",
    "\n",
    "-- READ\n",
    "SELECT * FROM users WHERE id = 1;\n",
    "\n",
    "-- UPDATE\n",
    "UPDATE users SET name = 'Ana Pérez' WHERE id = 1;\n",
    "\n",
    "-- DELETE\n",
    "DELETE FROM users WHERE id = 1;"
   ]
  },
  {
   "cell_type": "markdown",
   "id": "e8d5ce57",
   "metadata": {},
   "source": [
    "Aplicaciones Frontend"
   ]
  },
  {
   "cell_type": "code",
   "execution_count": null,
   "id": "da59049b",
   "metadata": {},
   "outputs": [],
   "source": [
    "// CREATE (POST)\n",
    "fetch('/users', {\n",
    "  method: 'POST',\n",
    "  body: JSON.stringify({ name: 'Ana' })\n",
    "});\n",
    "\n",
    "// READ (GET)\n",
    "fetch('/users/1').then(res => res.json());\n",
    "\n",
    "// UPDATE (PUT)\n",
    "fetch('/users/1', {\n",
    "  method: 'PUT',\n",
    "  body: JSON.stringify({ name: 'Ana Pérez' })\n",
    "});\n",
    "\n",
    "// DELETE\n",
    "fetch('/users/1', { method: 'DELETE' });"
   ]
  },
  {
   "cell_type": "markdown",
   "id": "649b15ad",
   "metadata": {},
   "source": [
    "Frameworks Backend"
   ]
  },
  {
   "cell_type": "code",
   "execution_count": null,
   "id": "817dceef",
   "metadata": {},
   "outputs": [],
   "source": [
    "// CREATE\n",
    "app.post('/users', (req, res) => {\n",
    "  const newUser = req.body;\n",
    "  // Lógica para guardar en DB...\n",
    "  res.status(201).send(newUser);\n",
    "});\n",
    "\n",
    "// READ\n",
    "app.get('/users/:id', (req, res) => {\n",
    "  const userId = req.params.id;\n",
    "  // Buscar usuario en DB...\n",
    "  res.json(user);\n",
    "});"
   ]
  },
  {
   "cell_type": "markdown",
   "id": "888e77bf",
   "metadata": {},
   "source": [
    "🔹 Buenas Prácticas en CRUD\n",
    "Validación de datos: Nunca confíes en el input del usuario.\n",
    "\n",
    "Permisos: Usa autenticación (ej: JWT) para restringir operaciones.\n",
    "\n",
    "Manejo de errores: Devuelve códigos HTTP claros (404 si no existe el recurso).\n",
    "\n",
    "Documentación: Usa Swagger para describir tus endpoints CRUD."
   ]
  },
  {
   "cell_type": "markdown",
   "id": "f051d726",
   "metadata": {},
   "source": [
    "HTTP vs CRUD:\n",
    "Ambos conceptos son fundamentales en el desarrollo web y APIs, pero sirven para propósitos diferentes. Aquí te explico cómo se comparan y cómo se relacionan."
   ]
  },
  {
   "cell_type": "markdown",
   "id": "1f72cae1",
   "metadata": {},
   "source": [
    "🔹 Diferencias Clave\n",
    "Característica\tHTTP\t                                    CRUD\n",
    "Tipo\t        Protocolo de comunicación.\t                Conjunto de operaciones.\n",
    "Uso\t            Transferir datos en la web.\t                Gestionar datos (crear, leer, actualizar, eliminar).\n",
    "Métodos\t        Incluye GET, POST, HEAD, OPTIONS, etc.\t    Solo CREATE, READ, UPDATE, DELETE.\n",
    "Ámbito\t        Más amplio (páginas web, APIs, WebSockets).\tMás específico (gestión de datos)."
   ]
  },
  {
   "cell_type": "markdown",
   "id": "9332da4a",
   "metadata": {},
   "source": [
    "🔹 ¿Cómo se relacionan?\n",
    "HTTP es el \"cómo\": Proporciona los métodos (GET, POST, etc.) para enviar solicitudes.\n",
    "\n",
    "CRUD es el \"qué\": Define las operaciones que puedes realizar sobre los datos.\n",
    "\n",
    "🔹 ¿Puede existir CRUD sin HTTP?\n",
    "¡Sí! CRUD no depende de HTTP:\n",
    "\n",
    "En bases de datos: Se usa con SQL (INSERT, SELECT, etc.).\n",
    "\n",
    "En aplicaciones de escritorio: Operaciones sobre archivos (crear, leer, editar, borrar).\n",
    "\n",
    "🔹 Resumen\n",
    "HTTP es el protocolo para comunicarse en la web.\n",
    "\n",
    "CRUD son las 4 operaciones básicas para manejar datos.\n",
    "\n",
    "En APIs RESTful: CRUD se implementa sobre HTTP.\n",
    "\n",
    "Analogía:\n",
    "\n",
    "HTTP es como el sistema postal (envía cartas).\n",
    "CRUD son las acciones que puedes hacer con esas cartas (escribir, leer, modificar, tirar).\n",
    "\n",
    "📌 ¿Cuándo usar cada término?\n",
    "Habla de HTTP cuando te refieras a la comunicación cliente-servidor.\n",
    "\n",
    "Habla de CRUD cuando describas operaciones de gestión de datos."
   ]
  }
 ],
 "metadata": {
  "language_info": {
   "name": "python"
  }
 },
 "nbformat": 4,
 "nbformat_minor": 5
}
