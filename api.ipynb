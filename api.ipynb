{
 "cells": [
  {
   "cell_type": "markdown",
   "id": "2738f397",
   "metadata": {},
   "source": [
    "API:Una API (Interfaz de Programación de Aplicaciones, por sus siglas en inglés Application Programming Interface) es un conjunto de reglas, protocolos y herramientas que permite que diferentes sistemas o componentes de software se comuniquen entre sí.\n",
    "\n",
    "🔹 ¿Qué hace una API?\n",
    "Permite la comunicación entre aplicaciones, servicios o sistemas.\n",
    "\n",
    "Expone funcionalidades de un software para que otros puedan usarlas sin conocer su código interno.\n",
    "\n",
    "Simplifica el desarrollo, evitando reinventar la rueda (ej: usar APIs de Google Maps, Twitter o PayPal).\n",
    "\n",
    "🔹 Ejemplos comunes\n",
    "APIs de Redes Sociales (Twitter, Facebook): Para publicar o leer datos.\n",
    "\n",
    "APIs de Pagos (PayPal, Stripe): Para procesar transacciones.\n",
    "\n",
    "APIs de Mapas (Google Maps): Para integrar mapas en una app.\n",
    "\n",
    "APIs Públicas (RESTful): Como las de clima (OpenWeatherMap) o datos financieros.\n",
    "\n",
    "🔹 Tipos de APIs\n",
    "REST (Representational State Transfer): Usa HTTP y es muy común (ej: JSON over HTTP).\n",
    "\n",
    "SOAP (Simple Object Access Protocol): Más estructurado y basado en XML.\n",
    "\n",
    "GraphQL: Permite consultar solo los datos necesarios.\n",
    "\n",
    "🔹 ¿Cómo funciona?\n",
    "Cliente hace una solicitud (ej: \"dame los últimos tweets\").\n",
    "\n",
    "Servidor procesa la petición y valida permisos.\n",
    "\n",
    "Servidor responde con datos (usualmente en JSON o XML)."
   ]
  },
  {
   "cell_type": "code",
   "execution_count": null,
   "id": "9e82d6c8",
   "metadata": {},
   "outputs": [],
   "source": [
    "Ejemplo de API REST (Clima):\n",
    "GET https://api.weather.com/v1/city?name=Bogotá\n",
    "Respuesta: {\"city\": \"Bogotá\", \"temp\": \"14°C\", \"humidity\": \"75%\"}"
   ]
  },
  {
   "cell_type": "markdown",
   "id": "759c0e4b",
   "metadata": {},
   "source": [
    "🔹 Beneficios\n",
    "✔ Ahorra tiempo: No necesitas desarrollar todo desde cero.\n",
    "✔ Escalabilidad: Puedes conectar servicios fácilmente.\n",
    "✔ Seguridad: Las APIs controlan el acceso a los datos."
   ]
  },
  {
   "cell_type": "markdown",
   "id": "ee998358",
   "metadata": {},
   "source": [
    "🔹 ¿Qué es una API REST?\n",
    "Una API REST es una interfaz que sigue algunos de los principios de REST, pero no necesariamente todos. Se basa en:\n",
    "\n",
    "Recursos (URLs) identificables (ej: /users, /products).\n",
    "\n",
    "Operaciones HTTP (GET, POST, PUT, DELETE) para interactuar con ellos.\n",
    "\n",
    "Stateless: Cada petición debe contener toda la información necesaria."
   ]
  },
  {
   "cell_type": "code",
   "execution_count": null,
   "id": "68e90f2f",
   "metadata": {},
   "outputs": [],
   "source": [
    "GET /get_users  # No sigue convenciones RESTful estrictas (verbo en la URL).\n",
    "POST /create_user"
   ]
  },
  {
   "cell_type": "markdown",
   "id": "b102d928",
   "metadata": {},
   "source": [
    "🔹 ¿Qué es una API RESTful?\n",
    "Una API RESTful cumple estrictamente los 6 principios de REST definidos por Roy Fielding (su creador). Es un subconjunto más riguroso de las APIs REST.\n",
    "\n",
    "📌 Los 6 principios de RESTful\n",
    "Arquitectura cliente-servidor: Separación clara entre frontend y backend.\n",
    "\n",
    "Stateless: Cada solicitud es independiente (sin sesiones guardadas en el servidor).\n",
    "\n",
    "Cacheable: Las respuestas deben poder almacenarse en caché (ej: con headers HTTP como Cache-Control).\n",
    "\n",
    "Interfaz uniforme:\n",
    "\n",
    "Uso de verbos HTTP estándar (GET, POST, PUT, DELETE).\n",
    "\n",
    "URIs jerárquicas y descriptivas (ej: /users/123, no /get_user?id=123).\n",
    "\n",
    "HATEOAS (Hypermedia as the Engine of Application State): Incluir enlaces a recursos relacionados en la respuesta (ej: links a /users/123/orders).\n",
    "\n",
    "Sistema en capas: Permite intermediarios (proxies, gateways).\n",
    "\n",
    "Código bajo demanda (opcional): Posibilidad de enviar lógica ejecutable (ej: JavaScript)."
   ]
  },
  {
   "cell_type": "code",
   "execution_count": null,
   "id": "542302b9",
   "metadata": {},
   "outputs": [],
   "source": [
    "GET    /users          # Obtener todos los usuarios  \n",
    "POST   /users          # Crear un usuario  \n",
    "GET    /users/123      # Obtener el usuario con ID 123  \n",
    "PUT    /users/123      # Actualizar el usuario 123  \n",
    "DELETE /users/123      # Eliminar el usuario 123  "
   ]
  },
  {
   "cell_type": "markdown",
   "id": "7bac99fe",
   "metadata": {},
   "source": [
    "🔹 Diferencias clave\n",
    "Característica                      |\tAPI REST                              | \tAPI RESTful\n",
    "Cumple todos los principios de REST\t|   No necesariamente\t                  |     Sí (incluyendo HATEOAS)\n",
    "URIs                                | \tA veces usan verbos (ej: /get_users)  | \tSiempre sustantivos (ej: /users)\n",
    "Stateless                           | \tSí                                    |  \tSí\n",
    "HATEOAS \t                        |   Raro                                  |\t    Obligatorio\n",
    "Cache                               |\tOpcional                              | \tImplementado correctamente\n",
    "\n",
    "\n",
    "🔹 ¿Cuál es mejor?\n",
    "RESTful es más escalable y mantenible, ideal para sistemas complejos.\n",
    "\n",
    "REST (no estricto) es más flexible y común en proyectos pequeños.\n"
   ]
  },
  {
   "cell_type": "code",
   "execution_count": null,
   "id": "ee83d70e",
   "metadata": {},
   "outputs": [],
   "source": [
    "{\n",
    "  \"id\": 123,\n",
    "  \"name\": \"Ana\",\n",
    "  \"links\": [\n",
    "    {\n",
    "      \"rel\": \"orders\",\n",
    "      \"href\": \"/users/123/orders\",\n",
    "      \"method\": \"GET\"\n",
    "    }\n",
    "  ]\n",
    "}"
   ]
  }
 ],
 "metadata": {
  "language_info": {
   "name": "python"
  }
 },
 "nbformat": 4,
 "nbformat_minor": 5
}
